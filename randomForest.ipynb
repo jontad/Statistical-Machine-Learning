{
 "cells": [
  {
   "cell_type": "markdown",
   "id": "1df3622e",
   "metadata": {},
   "source": [
    "# Random Forest for classifying actor"
   ]
  },
  {
   "cell_type": "code",
   "execution_count": 55,
   "id": "a44f0e5b",
   "metadata": {},
   "outputs": [],
   "source": [
    "# Importing the needed library\n",
    "import numpy as np\n",
    "import pandas as pd\n",
    "import matplotlib.pyplot as plt\n",
    "from sklearn.model_selection import train_test_split\n",
    "import random"
   ]
  },
  {
   "cell_type": "markdown",
   "id": "95da01c0",
   "metadata": {},
   "source": [
    "### Importing the dataset"
   ]
  },
  {
   "cell_type": "code",
   "execution_count": 12,
   "id": "9a373ecd",
   "metadata": {},
   "outputs": [
    {
     "name": "stdout",
     "output_type": "stream",
     "text": [
      "<class 'pandas.core.frame.DataFrame'>\n",
      "RangeIndex: 1039 entries, 0 to 1038\n",
      "Data columns (total 14 columns):\n",
      " #   Column                                Non-Null Count  Dtype  \n",
      "---  ------                                --------------  -----  \n",
      " 0   Number words female                   1039 non-null   int64  \n",
      " 1   Total words                           1039 non-null   int64  \n",
      " 2   Number of words lead                  1039 non-null   float64\n",
      " 3   Difference in words lead and co-lead  1039 non-null   int64  \n",
      " 4   Number of male actors                 1039 non-null   int64  \n",
      " 5   Year                                  1039 non-null   int64  \n",
      " 6   Number of female actors               1039 non-null   int64  \n",
      " 7   Number words male                     1039 non-null   int64  \n",
      " 8   Gross                                 1039 non-null   float64\n",
      " 9   Mean Age Male                         1039 non-null   float64\n",
      " 10  Mean Age Female                       1039 non-null   float64\n",
      " 11  Age Lead                              1039 non-null   float64\n",
      " 12  Age Co-Lead                           1039 non-null   float64\n",
      " 13  Lead                                  1039 non-null   object \n",
      "dtypes: float64(6), int64(7), object(1)\n",
      "memory usage: 113.8+ KB\n"
     ]
    }
   ],
   "source": [
    "data = pd.read_csv('train.csv')\n",
    "# Dataset contains no null value\n",
    "data.info()"
   ]
  },
  {
   "cell_type": "code",
   "execution_count": 3,
   "id": "bf0732a2",
   "metadata": {},
   "outputs": [
    {
     "data": {
      "text/html": [
       "<div>\n",
       "<style scoped>\n",
       "    .dataframe tbody tr th:only-of-type {\n",
       "        vertical-align: middle;\n",
       "    }\n",
       "\n",
       "    .dataframe tbody tr th {\n",
       "        vertical-align: top;\n",
       "    }\n",
       "\n",
       "    .dataframe thead th {\n",
       "        text-align: right;\n",
       "    }\n",
       "</style>\n",
       "<table border=\"1\" class=\"dataframe\">\n",
       "  <thead>\n",
       "    <tr style=\"text-align: right;\">\n",
       "      <th></th>\n",
       "      <th>Number words female</th>\n",
       "      <th>Total words</th>\n",
       "      <th>Number of words lead</th>\n",
       "      <th>Difference in words lead and co-lead</th>\n",
       "      <th>Number of male actors</th>\n",
       "      <th>Year</th>\n",
       "      <th>Number of female actors</th>\n",
       "      <th>Number words male</th>\n",
       "      <th>Gross</th>\n",
       "      <th>Mean Age Male</th>\n",
       "      <th>Mean Age Female</th>\n",
       "      <th>Age Lead</th>\n",
       "      <th>Age Co-Lead</th>\n",
       "      <th>Lead</th>\n",
       "    </tr>\n",
       "  </thead>\n",
       "  <tbody>\n",
       "    <tr>\n",
       "      <th>0</th>\n",
       "      <td>1512</td>\n",
       "      <td>6394</td>\n",
       "      <td>2251.0</td>\n",
       "      <td>343</td>\n",
       "      <td>2</td>\n",
       "      <td>1995</td>\n",
       "      <td>5</td>\n",
       "      <td>2631</td>\n",
       "      <td>142.0</td>\n",
       "      <td>51.500000</td>\n",
       "      <td>42.333333</td>\n",
       "      <td>46.0</td>\n",
       "      <td>65.0</td>\n",
       "      <td>Female</td>\n",
       "    </tr>\n",
       "    <tr>\n",
       "      <th>1</th>\n",
       "      <td>1524</td>\n",
       "      <td>8780</td>\n",
       "      <td>2020.0</td>\n",
       "      <td>1219</td>\n",
       "      <td>9</td>\n",
       "      <td>2001</td>\n",
       "      <td>4</td>\n",
       "      <td>5236</td>\n",
       "      <td>37.0</td>\n",
       "      <td>39.125000</td>\n",
       "      <td>29.333333</td>\n",
       "      <td>58.0</td>\n",
       "      <td>34.0</td>\n",
       "      <td>Male</td>\n",
       "    </tr>\n",
       "    <tr>\n",
       "      <th>2</th>\n",
       "      <td>155</td>\n",
       "      <td>4176</td>\n",
       "      <td>942.0</td>\n",
       "      <td>787</td>\n",
       "      <td>7</td>\n",
       "      <td>1968</td>\n",
       "      <td>1</td>\n",
       "      <td>3079</td>\n",
       "      <td>376.0</td>\n",
       "      <td>42.500000</td>\n",
       "      <td>37.000000</td>\n",
       "      <td>46.0</td>\n",
       "      <td>37.0</td>\n",
       "      <td>Male</td>\n",
       "    </tr>\n",
       "    <tr>\n",
       "      <th>3</th>\n",
       "      <td>1073</td>\n",
       "      <td>9855</td>\n",
       "      <td>3440.0</td>\n",
       "      <td>2623</td>\n",
       "      <td>12</td>\n",
       "      <td>2002</td>\n",
       "      <td>2</td>\n",
       "      <td>5342</td>\n",
       "      <td>19.0</td>\n",
       "      <td>35.222222</td>\n",
       "      <td>21.500000</td>\n",
       "      <td>33.0</td>\n",
       "      <td>23.0</td>\n",
       "      <td>Male</td>\n",
       "    </tr>\n",
       "    <tr>\n",
       "      <th>4</th>\n",
       "      <td>1317</td>\n",
       "      <td>7688</td>\n",
       "      <td>3835.0</td>\n",
       "      <td>3149</td>\n",
       "      <td>8</td>\n",
       "      <td>1988</td>\n",
       "      <td>4</td>\n",
       "      <td>2536</td>\n",
       "      <td>40.0</td>\n",
       "      <td>45.250000</td>\n",
       "      <td>45.000000</td>\n",
       "      <td>36.0</td>\n",
       "      <td>39.0</td>\n",
       "      <td>Male</td>\n",
       "    </tr>\n",
       "  </tbody>\n",
       "</table>\n",
       "</div>"
      ],
      "text/plain": [
       "   Number words female  Total words  Number of words lead  \\\n",
       "0                 1512         6394                2251.0   \n",
       "1                 1524         8780                2020.0   \n",
       "2                  155         4176                 942.0   \n",
       "3                 1073         9855                3440.0   \n",
       "4                 1317         7688                3835.0   \n",
       "\n",
       "   Difference in words lead and co-lead  Number of male actors  Year  \\\n",
       "0                                   343                      2  1995   \n",
       "1                                  1219                      9  2001   \n",
       "2                                   787                      7  1968   \n",
       "3                                  2623                     12  2002   \n",
       "4                                  3149                      8  1988   \n",
       "\n",
       "   Number of female actors  Number words male  Gross  Mean Age Male  \\\n",
       "0                        5               2631  142.0      51.500000   \n",
       "1                        4               5236   37.0      39.125000   \n",
       "2                        1               3079  376.0      42.500000   \n",
       "3                        2               5342   19.0      35.222222   \n",
       "4                        4               2536   40.0      45.250000   \n",
       "\n",
       "   Mean Age Female  Age Lead  Age Co-Lead    Lead  \n",
       "0        42.333333      46.0         65.0  Female  \n",
       "1        29.333333      58.0         34.0    Male  \n",
       "2        37.000000      46.0         37.0    Male  \n",
       "3        21.500000      33.0         23.0    Male  \n",
       "4        45.000000      36.0         39.0    Male  "
      ]
     },
     "execution_count": 3,
     "metadata": {},
     "output_type": "execute_result"
    }
   ],
   "source": [
    "# How the dataset is formed\n",
    "data.head()"
   ]
  },
  {
   "cell_type": "markdown",
   "id": "d8852a64",
   "metadata": {},
   "source": [
    "### Changing the lead value from female/male (Categorical) to numerical"
   ]
  },
  {
   "cell_type": "code",
   "execution_count": 13,
   "id": "84ce1957",
   "metadata": {},
   "outputs": [
    {
     "data": {
      "text/html": [
       "<div>\n",
       "<style scoped>\n",
       "    .dataframe tbody tr th:only-of-type {\n",
       "        vertical-align: middle;\n",
       "    }\n",
       "\n",
       "    .dataframe tbody tr th {\n",
       "        vertical-align: top;\n",
       "    }\n",
       "\n",
       "    .dataframe thead th {\n",
       "        text-align: right;\n",
       "    }\n",
       "</style>\n",
       "<table border=\"1\" class=\"dataframe\">\n",
       "  <thead>\n",
       "    <tr style=\"text-align: right;\">\n",
       "      <th></th>\n",
       "      <th>Number words female</th>\n",
       "      <th>Total words</th>\n",
       "      <th>Number of words lead</th>\n",
       "      <th>Difference in words lead and co-lead</th>\n",
       "      <th>Number of male actors</th>\n",
       "      <th>Year</th>\n",
       "      <th>Number of female actors</th>\n",
       "      <th>Number words male</th>\n",
       "      <th>Gross</th>\n",
       "      <th>Mean Age Male</th>\n",
       "      <th>Mean Age Female</th>\n",
       "      <th>Age Lead</th>\n",
       "      <th>Age Co-Lead</th>\n",
       "      <th>Lead</th>\n",
       "    </tr>\n",
       "  </thead>\n",
       "  <tbody>\n",
       "    <tr>\n",
       "      <th>0</th>\n",
       "      <td>1512</td>\n",
       "      <td>6394</td>\n",
       "      <td>2251.0</td>\n",
       "      <td>343</td>\n",
       "      <td>2</td>\n",
       "      <td>1995</td>\n",
       "      <td>5</td>\n",
       "      <td>2631</td>\n",
       "      <td>142.0</td>\n",
       "      <td>51.500000</td>\n",
       "      <td>42.333333</td>\n",
       "      <td>46.0</td>\n",
       "      <td>65.0</td>\n",
       "      <td>1</td>\n",
       "    </tr>\n",
       "    <tr>\n",
       "      <th>1</th>\n",
       "      <td>1524</td>\n",
       "      <td>8780</td>\n",
       "      <td>2020.0</td>\n",
       "      <td>1219</td>\n",
       "      <td>9</td>\n",
       "      <td>2001</td>\n",
       "      <td>4</td>\n",
       "      <td>5236</td>\n",
       "      <td>37.0</td>\n",
       "      <td>39.125000</td>\n",
       "      <td>29.333333</td>\n",
       "      <td>58.0</td>\n",
       "      <td>34.0</td>\n",
       "      <td>0</td>\n",
       "    </tr>\n",
       "    <tr>\n",
       "      <th>2</th>\n",
       "      <td>155</td>\n",
       "      <td>4176</td>\n",
       "      <td>942.0</td>\n",
       "      <td>787</td>\n",
       "      <td>7</td>\n",
       "      <td>1968</td>\n",
       "      <td>1</td>\n",
       "      <td>3079</td>\n",
       "      <td>376.0</td>\n",
       "      <td>42.500000</td>\n",
       "      <td>37.000000</td>\n",
       "      <td>46.0</td>\n",
       "      <td>37.0</td>\n",
       "      <td>0</td>\n",
       "    </tr>\n",
       "    <tr>\n",
       "      <th>3</th>\n",
       "      <td>1073</td>\n",
       "      <td>9855</td>\n",
       "      <td>3440.0</td>\n",
       "      <td>2623</td>\n",
       "      <td>12</td>\n",
       "      <td>2002</td>\n",
       "      <td>2</td>\n",
       "      <td>5342</td>\n",
       "      <td>19.0</td>\n",
       "      <td>35.222222</td>\n",
       "      <td>21.500000</td>\n",
       "      <td>33.0</td>\n",
       "      <td>23.0</td>\n",
       "      <td>0</td>\n",
       "    </tr>\n",
       "    <tr>\n",
       "      <th>4</th>\n",
       "      <td>1317</td>\n",
       "      <td>7688</td>\n",
       "      <td>3835.0</td>\n",
       "      <td>3149</td>\n",
       "      <td>8</td>\n",
       "      <td>1988</td>\n",
       "      <td>4</td>\n",
       "      <td>2536</td>\n",
       "      <td>40.0</td>\n",
       "      <td>45.250000</td>\n",
       "      <td>45.000000</td>\n",
       "      <td>36.0</td>\n",
       "      <td>39.0</td>\n",
       "      <td>0</td>\n",
       "    </tr>\n",
       "  </tbody>\n",
       "</table>\n",
       "</div>"
      ],
      "text/plain": [
       "   Number words female  Total words  Number of words lead  \\\n",
       "0                 1512         6394                2251.0   \n",
       "1                 1524         8780                2020.0   \n",
       "2                  155         4176                 942.0   \n",
       "3                 1073         9855                3440.0   \n",
       "4                 1317         7688                3835.0   \n",
       "\n",
       "   Difference in words lead and co-lead  Number of male actors  Year  \\\n",
       "0                                   343                      2  1995   \n",
       "1                                  1219                      9  2001   \n",
       "2                                   787                      7  1968   \n",
       "3                                  2623                     12  2002   \n",
       "4                                  3149                      8  1988   \n",
       "\n",
       "   Number of female actors  Number words male  Gross  Mean Age Male  \\\n",
       "0                        5               2631  142.0      51.500000   \n",
       "1                        4               5236   37.0      39.125000   \n",
       "2                        1               3079  376.0      42.500000   \n",
       "3                        2               5342   19.0      35.222222   \n",
       "4                        4               2536   40.0      45.250000   \n",
       "\n",
       "   Mean Age Female  Age Lead  Age Co-Lead  Lead  \n",
       "0        42.333333      46.0         65.0     1  \n",
       "1        29.333333      58.0         34.0     0  \n",
       "2        37.000000      46.0         37.0     0  \n",
       "3        21.500000      33.0         23.0     0  \n",
       "4        45.000000      36.0         39.0     0  "
      ]
     },
     "execution_count": 13,
     "metadata": {},
     "output_type": "execute_result"
    }
   ],
   "source": [
    "numerical_data = {'Lead':{'Female': 1, 'Male': 0}}\n",
    "data = data.replace(numerical_data)\n",
    "data.head()"
   ]
  },
  {
   "cell_type": "markdown",
   "id": "624db1d2",
   "metadata": {},
   "source": [
    "### Train the model"
   ]
  },
  {
   "cell_type": "code",
   "execution_count": 30,
   "id": "7f809646",
   "metadata": {},
   "outputs": [
    {
     "name": "stdout",
     "output_type": "stream",
     "text": [
      "The accuracy Random Forest 0.8221153846153846\n",
      "The accuracy Classificaton tree: 0.8125\n",
      "The accuracy Bagging: 0.8173076923076923\n"
     ]
    }
   ],
   "source": [
    "# Import the needed the library\n",
    "from sklearn.ensemble import RandomForestClassifier, BaggingClassifier\n",
    "from sklearn.tree import DecisionTreeClassifier\n",
    "\n",
    "# Get random state\n",
    "random_int = random.Random().randint(0, 99999)\n",
    "x = data.drop(['Lead'], axis=1)\n",
    "y = data['Lead']\n",
    "x_train, x_test, y_train, y_test = \\\n",
    "train_test_split(x, y, random_state=random_int, shuffle = True, test_size=0.20)\n",
    "\n",
    "# Create the model for random forest\n",
    "ran_int = random.Random().randint(0, 99999)\n",
    "\n",
    "# Create the models\n",
    "random_forest = RandomForestClassifier()\n",
    "classification_tree = DecisionTreeClassifier(max_depth=8)\n",
    "bagging = BaggingClassifier()\n",
    "\n",
    "# Fit the model\n",
    "random_forest.fit(x_train, y_train)\n",
    "classification_tree.fit(x_train, y_train)\n",
    "bagging.fit(x_train, y_train)\n",
    "\n",
    "# Accuracy\n",
    "acc_random_forest = random_forest.score(x_test, y_test)\n",
    "acc_classification_tree = classification_tree.score(x_test, y_test)\n",
    "acc_bagging = bagging.score(x_test, y_test)\n",
    "\n",
    "print(f'The accuracy Random Forest {acc_random_forest}')\n",
    "print(f'The accuracy Classificaton tree: {acc_classification_tree}')\n",
    "print(f'The accuracy Bagging: {acc_bagging}')"
   ]
  },
  {
   "cell_type": "markdown",
   "id": "4043be55",
   "metadata": {},
   "source": [
    "### Cross validation before tuning\n",
    "With Cross validation we can compute E_new which describes how well the model generalizes from the training data to new situations."
   ]
  },
  {
   "cell_type": "code",
   "execution_count": 8,
   "id": "d600168d",
   "metadata": {},
   "outputs": [
    {
     "name": "stdout",
     "output_type": "stream",
     "text": [
      "Cross validation for random forest 0.8498506348020911\n",
      "Cross validation for classifiction tree 0.8026325616131442\n",
      "Cross validation for bagging is 0.8228808812546676\n"
     ]
    }
   ],
   "source": [
    "from sklearn.model_selection import cross_val_score\n",
    "\n",
    "# TODO: Check the cross fold\n",
    "random_forest_cv_score = cross_val_score(random_forest, x, y, cv=10)\n",
    "print(f'Cross validation for random forest {random_forest_cv_score.mean()}')\n",
    "\n",
    "classification_tree_cv_score = cross_val_score(classification_tree, x, y, cv=10)\n",
    "print(f'Cross validation for classifiction tree {classification_tree_cv_score.mean()}')\n",
    "\n",
    "bagging_cv_score = cross_val_score(bagging, x, y, cv=10)\n",
    "print(f'Cross validation for bagging is {bagging_cv_score.mean()}')"
   ]
  },
  {
   "cell_type": "markdown",
   "id": "62083a4c",
   "metadata": {},
   "source": [
    "### Features Importance"
   ]
  },
  {
   "cell_type": "code",
   "execution_count": 16,
   "id": "5bcbdb08",
   "metadata": {},
   "outputs": [
    {
     "data": {
      "image/png": "[encoded data removed]",
      "text/plain": [
       "<Figure size 432x288 with 1 Axes>"
      ]
     },
     "metadata": {
      "needs_background": "light"
     },
     "output_type": "display_data"
    }
   ],
   "source": [
    "import seaborn as sns\n",
    "feature_score = \\\n",
    "pd.Series(random_forest.feature_importances_, index=x_train.columns)\\\n",
    ".sort_values(ascending=False)\n",
    "    \n",
    "sns.barplot(x=feature_score, y=feature_score.index, )\n",
    "plt.title(\"Importance of each Feature for the Random Forest classifier\")\n",
    "plt.xlabel('Importance')\n",
    "plt.ylabel('Features')\n",
    "plt.show()"
   ]
  },
  {
   "cell_type": "markdown",
   "id": "702a8b22",
   "metadata": {},
   "source": [
    "### Find best subset"
   ]
  },
  {
   "cell_type": "code",
   "execution_count": 208,
   "id": "13c3aca1",
   "metadata": {},
   "outputs": [],
   "source": [
    "from itertools import chain, combinations\n",
    "def find_best_subset(estimator, X, y, max_size=14, cv=5, print_progress=False):\n",
    "    \"\"\"\n",
    "    Calculates the best model of up to max_size features of X.\n",
    "    estimator must have a fit and score functions.\n",
    "    X must be a DataFrame.\n",
    "    Source of function: https://stackoverflow.com/a/50704252/6400551\n",
    "    \"\"\"\n",
    "\n",
    "    n_features = X.shape[1]\n",
    "    subsets = (combinations(range(n_features), k + 1)\n",
    "               for k in range(min(n_features, max_size)))\n",
    "\n",
    "    subsets_2 = (combinations(range(n_features), k + 1)\n",
    "                 for k in range(min(n_features, max_size)))\n",
    "\n",
    "    best_size_subset = []\n",
    "\n",
    "    progress_percentage = 0\n",
    "    progress = 0\n",
    "    # total_combinations = sum(math.comb(n_features, size) for size in range(max_size + 1))\n",
    "    total_combinations = 0\n",
    "\n",
    "    for subsets_k in subsets_2:\n",
    "        for subset in subsets_k:\n",
    "            total_combinations += 1\n",
    "\n",
    "    if print_progress:\n",
    "        print(f\"Looking through {total_combinations} combinations...\")\n",
    "\n",
    "    for subsets_k in subsets:  # for each list of subsets of the same size\n",
    "        best_score = -np.inf\n",
    "        best_subset = None\n",
    "\n",
    "        for subset in subsets_k:\n",
    "            if print_progress:\n",
    "                progress += 1\n",
    "\n",
    "                percentage = 100.0 * (progress / float(total_combinations))\n",
    "                percentage_int = int(percentage)\n",
    "\n",
    "                if percentage_int > progress_percentage:\n",
    "                    progress_percentage = percentage_int\n",
    "                    print(f\"Progress: {progress_percentage}%\")\n",
    "\n",
    "            estimator.fit(X.iloc[:, list(subset)], y)\n",
    "            # get the subset with the best score among subsets of the same size\n",
    "            score = estimator.score(X.iloc[:, list(subset)], y)\n",
    "            if score > best_score:\n",
    "                best_score, best_subset = score, subset\n",
    "\n",
    "        # to compare subsets of different sizes we must use CV\n",
    "        # first store the best subset of each size\n",
    "        best_size_subset.append(best_subset)\n",
    "\n",
    "    # compare best subsets of each size\n",
    "    best_score = -np.inf\n",
    "    best_subset = None\n",
    "    list_scores = []\n",
    "    for subset in best_size_subset:\n",
    "        score = cross_val_score(estimator, X.iloc[:, list(subset)], y, cv=cv).mean()\n",
    "        list_scores.append(score)\n",
    "        if score > best_score:\n",
    "            best_score, best_subset = score, subset\n",
    "\n",
    "    return best_subset, best_score, best_size_subset, list_scores\n",
    "best_subset, best_score, best_size_subset, list_score = find_best_subset(random_forest, x, y)"
   ]
  },
  {
   "cell_type": "code",
   "execution_count": 209,
   "id": "fea44878",
   "metadata": {},
   "outputs": [
    {
     "name": "stdout",
     "output_type": "stream",
     "text": [
      "Best subset (0, 2, 3, 4, 6, 7, 8, 9, 10, 11, 12)\n",
      "Best score 0.847942214790041\n",
      " Best size subset [(3,), (3, 6), (0, 3, 6), (3, 6, 10, 11), (2, 3, 6, 11, 12), (1, 2, 3, 6, 11, 12), (0, 2, 3, 6, 8, 11, 12), (0, 1, 2, 3, 6, 8, 11, 12), (0, 1, 2, 3, 6, 8, 9, 11, 12), (0, 2, 3, 4, 6, 7, 8, 9, 11, 12), (0, 2, 3, 4, 6, 7, 8, 9, 10, 11, 12), (1, 2, 3, 4, 5, 6, 7, 8, 9, 10, 11, 12), (0, 1, 2, 3, 4, 5, 6, 7, 8, 9, 10, 11, 12)]\n",
      "List score [0.7102889260497955, 0.7073996655518394, 0.8055648457822372, 0.775710702341137, 0.7815124489037533, 0.7767001114827201, 0.8180973615756224, 0.8200204384986994, 0.815194165737644, 0.8479282794500186, 0.847942214790041, 0.8161742846525455, 0.8363851727982162]\n"
     ]
    }
   ],
   "source": [
    "print(f'Best subset {best_subset}')\n",
    "print(f'Best score {best_score}')\n",
    "print(f' Best size subset {best_size_subset}')\n",
    "print(f'List score {list_score}')"
   ]
  },
  {
   "cell_type": "code",
   "execution_count": 21,
   "id": "dac4af88",
   "metadata": {},
   "outputs": [
    {
     "name": "stdout",
     "output_type": "stream",
     "text": [
      " 0 = Number words female \n",
      " 1 = Total words \n",
      " 2 = Number of words lead \n",
      " 3 = Difference in words lead and co-lead \n",
      " 4 = Number of male actors \n",
      " 5 = Year \n",
      " 6 = Number of female actors \n",
      " 7 = Number words male \n",
      " 8 = Gross \n",
      " 9 = Mean Age Male \n",
      " 10 = Mean Age Female \n",
      " 11 = Age Lead \n",
      " 12 = Age Co-Lead \n",
      " 13 = Lead \n"
     ]
    }
   ],
   "source": [
    "# Feature importance for random forest\n",
    "\n",
    "label_name = []\n",
    "for name, index in zip(data.columns, range(14)):\n",
    "    print(f' {index} = {name} ')\n",
    "# Best subset (0, 2, 3, 4, 6, 7, 8, 9, 10, 11, 12)"
   ]
  },
  {
   "cell_type": "code",
   "execution_count": 22,
   "id": "6b501fb2",
   "metadata": {},
   "outputs": [
    {
     "data": {
      "image/png": "[encoded data removed]",
      "text/plain": [
       "<Figure size 432x288 with 1 Axes>"
      ]
     },
     "metadata": {
      "needs_background": "light"
     },
     "output_type": "display_data"
    }
   ],
   "source": [
    "import seaborn as sns\n",
    "feature_score = \\\n",
    "pd.Series(random_forest.feature_importances_, index=x_train.columns)\\\n",
    ".sort_values(ascending=False)\n",
    "# 0(0), 2(10), 3(4), 6(1), 7(5), 8(11), 9(9), 10 (6), 11(2), 12(3)    \n",
    "sns.barplot(x=feature_score, y=feature_score.index, )\n",
    "plt.title(\"Importance of each Feature for the Random Forest classifier\")\n",
    "plt.xlabel('Importance')\n",
    "plt.ylabel('Features')\n",
    "plt.show()"
   ]
  },
  {
   "cell_type": "markdown",
   "id": "4f649438",
   "metadata": {},
   "source": [
    "### Tunning using the subset (0, 2, 3, 4, 6, 7, 8, 9, 10, 11, 12)"
   ]
  },
  {
   "cell_type": "code",
   "execution_count": 49,
   "id": "5e019143",
   "metadata": {},
   "outputs": [
    {
     "name": "stdout",
     "output_type": "stream",
     "text": [
      "Score is 0.8413461538461539\n",
      "Cross validation for random forest 0.8518203883495146\n"
     ]
    }
   ],
   "source": [
    "from sklearn.ensemble import RandomForestClassifier\n",
    "x_subset = data.iloc[:,[0, 2, 3, 4, 6, 7, 8, 9, 10, 11, 12]]\n",
    "y_subset = data['Lead']\n",
    "\n",
    "random_int = random.Random().randint(0, 99999)\n",
    "x_subset_train, x_subset_test, y_subset_train, y_subset_test = \\\n",
    "train_test_split(x_subset, y_subset, random_state=random_int, shuffle = True, test_size=0.20)\n",
    "\n",
    "ran_int = random.Random().randint(0, 99999)\n",
    "\n",
    "# Create a model\n",
    "rf_clf = RandomForestClassifier(max_depth=10, random_state=ran_int, bootstrap=True)\n",
    "\n",
    "# Train the model\n",
    "rf_clf.fit(x_subset_train, y_subset_train)\n",
    "\n",
    "acc_rf_clf = rf_clf.score(x_subset_test, y_subset_test)\n",
    "print(f'Score is {acc_rf_clf}')\n",
    "\n",
    "# TODO: Check the cross fold\n",
    "rf_cv_score = cross_val_score(rf_clf, x_subset, y_subset, cv=10)\n",
    "print(f'Cross validation for random forest {rf_cv_score.mean()}')\n"
   ]
  },
  {
   "cell_type": "markdown",
   "id": "5fcee420",
   "metadata": {},
   "source": [
    "### Tuning with a smaller subset (0, 3, 6, 11, 12)"
   ]
  },
  {
   "cell_type": "code",
   "execution_count": 45,
   "id": "9600b38a",
   "metadata": {},
   "outputs": [
    {
     "name": "stdout",
     "output_type": "stream",
     "text": [
      "Score is 0.8269230769230769\n",
      "Cross validation is 0.831572068707991\n"
     ]
    }
   ],
   "source": [
    "x_small = data.iloc[:, [0, 3, 6, 7, 11, 12]]\n",
    "y_small = data['Lead']\n",
    "\n",
    "random_int = random.Random().randint(0, 99999)\n",
    "\n",
    "x_small_train, x_small_test, y_small_train, y_small_test = \\\n",
    "train_test_split(x_small, y_small, random_state=random_int, shuffle=True, test_size=0.20)\n",
    "\n",
    "# Create a model\n",
    "ran_int = random.Random().randint(0, 99999)\n",
    "rf_clf_small = RandomForestClassifier(max_depth=10, random_state=ran_int, bootstrap=True)\n",
    "\n",
    "# Train th model\n",
    "rf_clf_small.fit(x_small_train, y_small_train)\n",
    "\n",
    "# Cross and validation\n",
    "acc_rf_clf_small = rf_clf_small.score(x_small_test, y_small_test)\n",
    "rf_small_cv_score = cross_val_score(rf_clf_small, x_small, y_small, cv=10)\n",
    "\n",
    "print(f'Score is {acc_rf_clf_small}')\n",
    "print(f'Cross validation is {rf_small_cv_score.mean()}')"
   ]
  },
  {
   "cell_type": "code",
   "execution_count": 52,
   "id": "f4dc6767",
   "metadata": {},
   "outputs": [
    {
     "name": "stderr",
     "output_type": "stream",
     "text": [
      "/usr/local/lib/python3.9/site-packages/sklearn/model_selection/_validation.py:372: FitFailedWarning: \n",
      "2400 fits failed out of a total of 9600.\n",
      "The score on these train-test partitions for these parameters will be set to nan.\n",
      "If these failures are not expected, you can try to debug them by setting error_score='raise'.\n",
      "\n",
      "Below are more details about the failures:\n",
      "--------------------------------------------------------------------------------\n",
      "2400 fits failed with the following error:\n",
      "Traceback (most recent call last):\n",
      "  File \"/usr/local/lib/python3.9/site-packages/sklearn/model_selection/_validation.py\", line 681, in _fit_and_score\n",
      "    estimator.fit(X_train, y_train, **fit_params)\n",
      "  File \"/usr/local/lib/python3.9/site-packages/sklearn/ensemble/_forest.py\", line 442, in fit\n",
      "    trees = Parallel(\n",
      "  File \"/usr/local/lib/python3.9/site-packages/joblib/parallel.py\", line 1043, in __call__\n",
      "    if self.dispatch_one_batch(iterator):\n",
      "  File \"/usr/local/lib/python3.9/site-packages/joblib/parallel.py\", line 861, in dispatch_one_batch\n",
      "    self._dispatch(tasks)\n",
      "  File \"/usr/local/lib/python3.9/site-packages/joblib/parallel.py\", line 779, in _dispatch\n",
      "    job = self._backend.apply_async(batch, callback=cb)\n",
      "  File \"/usr/local/lib/python3.9/site-packages/joblib/_parallel_backends.py\", line 208, in apply_async\n",
      "    result = ImmediateResult(func)\n",
      "  File \"/usr/local/lib/python3.9/site-packages/joblib/_parallel_backends.py\", line 572, in __init__\n",
      "    self.results = batch()\n",
      "  File \"/usr/local/lib/python3.9/site-packages/joblib/parallel.py\", line 262, in __call__\n",
      "    return [func(*args, **kwargs)\n",
      "  File \"/usr/local/lib/python3.9/site-packages/joblib/parallel.py\", line 262, in <listcomp>\n",
      "    return [func(*args, **kwargs)\n",
      "  File \"/usr/local/lib/python3.9/site-packages/sklearn/utils/fixes.py\", line 211, in __call__\n",
      "    return self.function(*args, **kwargs)\n",
      "  File \"/usr/local/lib/python3.9/site-packages/sklearn/ensemble/_forest.py\", line 185, in _parallel_build_trees\n",
      "    tree.fit(X, y, sample_weight=curr_sample_weight, check_input=False)\n",
      "  File \"/usr/local/lib/python3.9/site-packages/sklearn/tree/_classes.py\", line 937, in fit\n",
      "    super().fit(\n",
      "  File \"/usr/local/lib/python3.9/site-packages/sklearn/tree/_classes.py\", line 250, in fit\n",
      "    raise ValueError(\n",
      "ValueError: min_samples_split must be an integer greater than 1 or a float in (0.0, 1.0]; got the integer 1\n",
      "\n",
      "  warnings.warn(some_fits_failed_message, FitFailedWarning)\n",
      "/usr/local/lib/python3.9/site-packages/sklearn/model_selection/_search.py:969: UserWarning: One or more of the test scores are non-finite: [       nan        nan        nan ... 0.8489084  0.84890375 0.84890375]\n",
      "  warnings.warn(\n"
     ]
    },
    {
     "data": {
      "text/plain": [
       "{'criterion': 'entropy',\n",
       " 'max_depth': 9,\n",
       " 'max_features': 'auto',\n",
       " 'min_samples_leaf': 4,\n",
       " 'min_samples_split': 2,\n",
       " 'n_estimators': 100}"
      ]
     },
     "execution_count": 52,
     "metadata": {},
     "output_type": "execute_result"
    }
   ],
   "source": [
    "# Feature importance for random forest\n",
    "rf_param = {\n",
    "    'n_estimators': [80, 90, 100, 110, 120],\n",
    "    'criterion': ['gini', 'entropy'],\n",
    "    'max_depth': range(2, 10, 1),\n",
    "    'min_samples_split': range(1, 5, 1),\n",
    "    'min_samples_leaf': range(2, 5, 1),\n",
    "    'max_features': ['auto', 'log2']\n",
    "}\n",
    "grid_search = GridSearchCV(random_forest, rf_param)\n",
    "grid_search.fit(x_subset, y_subset)\n",
    "grid_search.best_params_\n",
    "\n"
   ]
  },
  {
   "cell_type": "code",
   "execution_count": 56,
   "id": "136fcf49",
   "metadata": {},
   "outputs": [
    {
     "name": "stdout",
     "output_type": "stream",
     "text": [
      "Score is 0.8028846153846154\n",
      "Cross validation for random forest 0.8440907393577296\n"
     ]
    }
   ],
   "source": [
    "\n",
    "random_int = random.Random().randint(0, 99999)\n",
    "x_subset_train, x_subset_test, y_subset_train, y_subset_test = \\\n",
    "train_test_split(x_subset, y_subset, random_state=random_int, shuffle = True, test_size=0.20)\n",
    "\n",
    "ran_int = random.Random().randint(0, 99999)\n",
    "\n",
    "# Create a model\n",
    "#rf_clf = RandomForestClassifier(max_depth=10, random_state=ran_int, bootstrap=True)\n",
    "rf_grid = RandomForestClassifier(n_estimators=100, criterion='gini',\n",
    "                                 max_depth=9, min_samples_split=2,\n",
    "                                 min_samples_leaf = 4, max_features='auto',\n",
    "                                 random_state=ran_int, bootstrap=True\n",
    "                                )\n",
    "# Train the model\n",
    "rf_grid.fit(x_subset_train, y_subset_train)\n",
    "\n",
    "acc_rf_clf = rf_grid.score(x_subset_test, y_subset_test)\n",
    "print(f'Score is {acc_rf_clf}')\n",
    "\n",
    "# TODO: Check the cross fold\n",
    "rf_cv_score = cross_val_score(rf_grid, x_subset, y_subset, cv=10)\n",
    "print(f'Cross validation for random forest {rf_cv_score.mean()}')"
   ]
  },
  {
   "cell_type": "markdown",
   "id": "5955d782",
   "metadata": {},
   "source": [
    "## Feature importance"
   ]
  },
  {
   "cell_type": "code",
   "execution_count": 64,
   "id": "65c430ab",
   "metadata": {},
   "outputs": [
    {
     "name": "stdout",
     "output_type": "stream",
     "text": [
      "Male=0, Female=1\n",
      "0    785\n",
      "1    254\n",
      "Name: Lead, dtype: int64\n"
     ]
    }
   ],
   "source": [
    "count_lead = data['Lead'].value_counts()\n",
    "print('Male=0, Female=1')\n",
    "print(count_lead)"
   ]
  },
  {
   "cell_type": "markdown",
   "id": "65b0bd25",
   "metadata": {},
   "source": [
    "### Learn the model with all the features"
   ]
  },
  {
   "cell_type": "code",
   "execution_count": 61,
   "id": "bb76086d",
   "metadata": {},
   "outputs": [
    {
     "name": "stdout",
     "output_type": "stream",
     "text": [
      " Acc mean 0.8393076923076923\n",
      "Error rate 0.16069230769230766\n"
     ]
    },
    {
     "name": "stderr",
     "output_type": "stream",
     "text": [
      "/usr/local/lib/python3.9/site-packages/sklearn/utils/deprecation.py:87: FutureWarning: Function plot_confusion_matrix is deprecated; Function `plot_confusion_matrix` is deprecated in 1.0 and will be removed in 1.2. Use one of the class methods: ConfusionMatrixDisplay.from_predictions or ConfusionMatrixDisplay.from_estimator.\n",
      "  warnings.warn(msg, category=FutureWarning)\n"
     ]
    },
    {
     "data": {
      "image/png": "[encoded data removed]",
      "text/plain": [
       "<Figure size 432x288 with 2 Axes>"
      ]
     },
     "metadata": {
      "needs_background": "light"
     },
     "output_type": "display_data"
    }
   ],
   "source": [
    "from sklearn.metrics import plot_confusion_matrix\n",
    "sum_score = 0\n",
    "err_sum = 0\n",
    "x = data.drop(['Lead'], axis=1)\n",
    "y = data['Lead']\n",
    "loop_iter = 100\n",
    "\n",
    "for i in range(loop_iter):\n",
    "\n",
    "    x_train, x_test, y_train, y_test = \\\n",
    "    train_test_split(x, y, test_size=0.25)\n",
    "\n",
    "    # Create a model\n",
    "    rf_clf= RandomForestClassifier()\n",
    "\n",
    "    # Train th model\n",
    "    rf_clf.fit(x_train, y_train)\n",
    "\n",
    "    # Cross and validation\n",
    "    acc_rf_clf = rf_clf.score(x_test, y_test)\n",
    "    prediction = rf_clf.predict(x_test)\n",
    "    #rf_cv = cross_val_score(rf_clf, x, y, cv=10)\n",
    "    err = np.mean(prediction !=y_test)\n",
    "    \n",
    "    sum_score = sum_score + acc_rf_clf\n",
    "    err_sum = err_sum + err\n",
    "    \n",
    "mean_sum = sum_score / loop_iter\n",
    "err_mean = err_sum / loop_iter\n",
    "print(f' Acc mean {mean_sum}')\n",
    "print(f'Error rate {err_mean}')\n",
    "\n",
    "conf_matrix = plot_confusion_matrix(rf_clf, x_test, y_test,\n",
    "                            display_labels=['Male' ,'Female'],\n",
    "                            cmap=plt.cm.Blues)\n",
    "plt.show()"
   ]
  },
  {
   "cell_type": "markdown",
   "id": "f35ce4e8",
   "metadata": {},
   "source": [
    "### Droping words spoken by males and females"
   ]
  },
  {
   "cell_type": "code",
   "execution_count": 65,
   "id": "d64963e8",
   "metadata": {},
   "outputs": [
    {
     "name": "stdout",
     "output_type": "stream",
     "text": [
      " Acc mean 0.8029615384615387\n",
      "Error rate 0.19703846153846144\n"
     ]
    },
    {
     "name": "stderr",
     "output_type": "stream",
     "text": [
      "/usr/local/lib/python3.9/site-packages/sklearn/utils/deprecation.py:87: FutureWarning: Function plot_confusion_matrix is deprecated; Function `plot_confusion_matrix` is deprecated in 1.0 and will be removed in 1.2. Use one of the class methods: ConfusionMatrixDisplay.from_predictions or ConfusionMatrixDisplay.from_estimator.\n",
      "  warnings.warn(msg, category=FutureWarning)\n"
     ]
    },
    {
     "data": {
      "image/png": "[encoded data removed]",
      "text/plain": [
       "<Figure size 432x288 with 2 Axes>"
      ]
     },
     "metadata": {
      "needs_background": "light"
     },
     "output_type": "display_data"
    }
   ],
   "source": [
    "sum_score = 0\n",
    "err_sum = 0\n",
    "x = data.drop(['Number words female', 'Number words male', 'Lead'], axis=1)\n",
    "y = data['Lead']\n",
    "loop_iter = 100\n",
    "\n",
    "for i in range(loop_iter):\n",
    "\n",
    "    x_train, x_test, y_train, y_test = \\\n",
    "    train_test_split(x, y, test_size=0.25)\n",
    "\n",
    "    # Create a model\n",
    "    rf_clf= RandomForestClassifier()\n",
    "\n",
    "    # Train th model\n",
    "    rf_clf.fit(x_train, y_train)\n",
    "\n",
    "    # Cross and validation\n",
    "    acc_rf_clf = rf_clf.score(x_test, y_test)\n",
    "    prediction = rf_clf.predict(x_test)\n",
    "    #rf_cv = cross_val_score(rf_clf, x, y, cv=10)\n",
    "    err = np.mean(prediction !=y_test)\n",
    "    \n",
    "    sum_score = sum_score + acc_rf_clf\n",
    "    err_sum = err_sum + err\n",
    "    \n",
    "mean_sum = sum_score / loop_iter\n",
    "err_mean = err_sum / loop_iter\n",
    "print(f' Acc mean {mean_sum}')\n",
    "print(f'Error rate {err_mean}')\n",
    "\n",
    "conf_matrix = plot_confusion_matrix(rf_clf, x_test, y_test,\n",
    "                            display_labels=['Male' ,'Female'],\n",
    "                            cmap=plt.cm.Blues)\n",
    "plt.show()"
   ]
  },
  {
   "cell_type": "markdown",
   "id": "a3ae07e3",
   "metadata": {},
   "source": [
    "### Droping year of release"
   ]
  },
  {
   "cell_type": "code",
   "execution_count": null,
   "id": "ed29bb23",
   "metadata": {},
   "outputs": [],
   "source": [
    "sum_score = 0\n",
    "err_sum = 0\n",
    "x = data.drop(['Year','Lead'], axis=1)\n",
    "y = data['Lead']\n",
    "loop_iter = 100\n",
    "\n",
    "for i in range(loop_iter):\n",
    "\n",
    "    x_train, x_test, y_train, y_test = \\\n",
    "    train_test_split(x, y, test_size=0.25)\n",
    "\n",
    "    # Create a model\n",
    "    rf_clf= RandomForestClassifier()\n",
    "\n",
    "    # Train th model\n",
    "    rf_clf.fit(x_train, y_train)\n",
    "\n",
    "    # Cross and validation\n",
    "    acc_rf_clf = rf_clf.score(x_test, y_test)\n",
    "    prediction = rf_clf.predict(x_test)\n",
    "    #rf_cv = cross_val_score(rf_clf, x, y, cv=10)\n",
    "    err = np.mean(prediction !=y_test)\n",
    "    \n",
    "    sum_score = sum_score + acc_rf_clf\n",
    "    err_sum = err_sum + err\n",
    "    \n",
    "mean_sum = sum_score / loop_iter\n",
    "err_mean = err_sum / loop_iter\n",
    "print(f' Acc mean {mean_sum}')\n",
    "print(f'Error rate {err_mean}')\n",
    "conf_matrix = plot_confusion_matrix(rf_clf, x_test, y_test,\n",
    "                            display_labels=['Male' ,'Female'],\n",
    "                            cmap=plt.cm.Blues)\n",
    "plt.show()"
   ]
  },
  {
   "cell_type": "markdown",
   "id": "f476c600",
   "metadata": {},
   "source": [
    "### Droping gross feature"
   ]
  },
  {
   "cell_type": "code",
   "execution_count": 49,
   "id": "d5ce3d95",
   "metadata": {},
   "outputs": [
    {
     "name": "stdout",
     "output_type": "stream",
     "text": [
      " Acc mean 0.842230769230769\n",
      "Error rate 0.6766923076923077\n"
     ]
    }
   ],
   "source": [
    "sum_score = 0\n",
    "err_sum = 0\n",
    "x = data.drop(['Gross', 'Lead'], axis=1)\n",
    "y = data['Lead']\n",
    "loop_iter = 100\n",
    "\n",
    "for i in range(loop_iter):\n",
    "\n",
    "    x_train, x_test, y_train, y_test = \\\n",
    "    train_test_split(x, y, test_size=0.25)\n",
    "\n",
    "    # Create a model\n",
    "    rf_clf= RandomForestClassifier()\n",
    "\n",
    "    # Train th model\n",
    "    rf_clf.fit(x_train, y_train)\n",
    "\n",
    "    # Cross and validation\n",
    "    acc_rf_clf = rf_clf.score(x_test, y_test)\n",
    "    prediction = rf_clf.predict(x_test)\n",
    "    #rf_cv = cross_val_score(rf_clf, x, y, cv=10)\n",
    "    err = np.mean(prediction !=y_test)\n",
    "    \n",
    "    sum_score = sum_score + acc_rf_clf\n",
    "    err_sum = err_sum + err\n",
    "    \n",
    "mean_sum = sum_score / loop_iter\n",
    "err_mean = err_sum / loop_iter\n",
    "print(f' Acc mean {mean_sum}')\n",
    "print(f'Error rate {err_mean}')"
   ]
  },
  {
   "cell_type": "markdown",
   "id": "2eeb3c45",
   "metadata": {},
   "source": [
    "### Droping year and gross"
   ]
  },
  {
   "cell_type": "code",
   "execution_count": 44,
   "id": "9941322e",
   "metadata": {},
   "outputs": [
    {
     "name": "stdout",
     "output_type": "stream",
     "text": [
      " Acc mean 0.8471153846153848\n"
     ]
    }
   ],
   "source": [
    "sum_score = 0\n",
    "err_sum = 0\n",
    "x = data.drop(['Year', 'Gross', 'Lead'], axis=1)\n",
    "y = data['Lead']\n",
    "loop_iter = 100\n",
    "\n",
    "for i in range(loop_iter):\n",
    "    \n",
    "    random_int = random.Random().randint(0, 99999)\n",
    "\n",
    "    x_train, x_test, y_train, y_test = \\\n",
    "    train_test_split(x, y, random_state=random_int, shuffle=True, test_size=0.25)\n",
    "\n",
    "    # Create a model\n",
    "    ran_int = random.Random().randint(0, 99999)\n",
    "    rf_clf= RandomForestClassifier()\n",
    "\n",
    "    # Train th model\n",
    "    rf_clf.fit(x_train, y_train)\n",
    "\n",
    "    # Cross and validation\n",
    "    acc_rf_clf = rf_clf.score(x_test, y_test)\n",
    "    #rf_cv = cross_val_score(rf_clf, x, y, cv=10)\n",
    "    \n",
    "    sum_score = sum_score + acc_rf_clf\n",
    "    \n",
    "mean_sum = sum_score / loop_iter\n",
    "print(f' Acc mean {mean_sum}')"
   ]
  }
 ],
 "metadata": {
  "kernelspec": {
   "display_name": "Python 3 (ipykernel)",
   "language": "python",
   "name": "python3"
  },
  "language_info": {
   "codemirror_mode": {
    "name": "ipython",
    "version": 3
   },
   "file_extension": ".py",
   "mimetype": "text/x-python",
   "name": "python",
   "nbconvert_exporter": "python",
   "pygments_lexer": "ipython3",
   "version": "3.9.7"
  }
 },
 "nbformat": 4,
 "nbformat_minor": 5
}
